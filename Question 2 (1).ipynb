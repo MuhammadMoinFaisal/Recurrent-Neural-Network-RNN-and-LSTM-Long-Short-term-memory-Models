{
 "cells": [
  {
   "cell_type": "markdown",
   "id": "864960d5",
   "metadata": {},
   "source": [
    "# Question # 2"
   ]
  },
  {
   "cell_type": "raw",
   "id": "01c2e504",
   "metadata": {},
   "source": [
    "Libraries"
   ]
  },
  {
   "cell_type": "code",
   "execution_count": 31,
   "id": "17140903",
   "metadata": {},
   "outputs": [],
   "source": [
    "import pandas as pd\n",
    "import numpy as np\n",
    "import math\n",
    "import sys\n",
    "import tensorflow as tf\n",
    "import keras\n",
    "import random \n",
    "import matplotlib.pyplot as plt\n",
    "%matplotlib inline\n",
    "from keras.layers import Input\n",
    "from keras.models import Model\n",
    "from keras.layers.core import Dense, Activation \n",
    "from keras.layers.recurrent import SimpleRNN"
   ]
  },
  {
   "cell_type": "raw",
   "id": "5668758b",
   "metadata": {},
   "source": [
    "Generatng a Sin Wave"
   ]
  },
  {
   "cell_type": "code",
   "execution_count": 32,
   "id": "d9a9b352",
   "metadata": {},
   "outputs": [
    {
     "data": {
      "text/plain": [
       "<AxesSubplot:>"
      ]
     },
     "execution_count": 32,
     "metadata": {},
     "output_type": "execute_result"
    },
    {
     "data": {
      "image/png": "[encoded data removed]",
      "text/plain": [
       "<Figure size 1080x216 with 1 Axes>"
      ]
     },
     "metadata": {
      "needs_background": "light"
     },
     "output_type": "display_data"
    }
   ],
   "source": [
    "def sinwave(steps_per_cycle = 10,\n",
    "              number_of_cycles = 100,\n",
    "              random_factor = 0.4):\n",
    "    random.seed(0)\n",
    "    df = pd.DataFrame(np.arange(steps_per_cycle * number_of_cycles + 1), columns=[\"t\"])\n",
    "    df[\"sin(t)\"] = df.t.apply(lambda x: math.sin(x * (2 * math.pi / steps_per_cycle)+ random.uniform(-1.0, +1.0) * random_factor))\n",
    "    df[\"sin(t)clean\"] = df.t.apply(lambda x: math.sin(x * (2 * math.pi / steps_per_cycle)))\n",
    "    return(df)\n",
    "\n",
    "steps_per_cycle = 10\n",
    "df = sinwave(steps_per_cycle=steps_per_cycle,\n",
    "              random_factor = 0)\n",
    "\n",
    "n_plot = 8\n",
    "df[[\"sin(t)\"]].head(steps_per_cycle * n_plot).plot(figsize=(15,3))\n"
   ]
  },
  {
   "cell_type": "raw",
   "id": "2c26e9f4",
   "metadata": {},
   "source": [
    "A simple RNN layer contains 3 weights: 1 weight for input, 1 weight for hidden unit, 1 weight for bias"
   ]
  },
  {
   "cell_type": "code",
   "execution_count": 33,
   "id": "d6763952",
   "metadata": {},
   "outputs": [
    {
     "name": "stdout",
     "output_type": "stream",
     "text": [
      "(748, 2, 1) (748, 1) (249, 2, 1) (249, 1)\n"
     ]
    }
   ],
   "source": [
    "def data_partII(data, n_prev = 100):  \n",
    "    docX, docY = [], []\n",
    "    for i in range(len(data)-n_prev):\n",
    "        docX.append(data.iloc[i:i+n_prev])\n",
    "        docY.append(data.iloc[i+n_prev])\n",
    "    alsX = np.array(docX)\n",
    "    alsY = np.array(docY)\n",
    "\n",
    "    return alsX, alsY\n",
    "\n",
    "length_of_sequences = 2\n",
    "test_size = 0.25\n",
    "ntr = int(len(df) * (1 - test_size))\n",
    "df_train = df[[\"sin(t)\"]].iloc[:ntr]\n",
    "df_test  = df[[\"sin(t)\"]].iloc[ntr:]\n",
    "(X_train, y_train) = data_partII(df_train, n_prev = length_of_sequences)\n",
    "(X_test, y_test)   = data_partII(df_test, n_prev = length_of_sequences)  \n",
    "print(X_train.shape, y_train.shape, X_test.shape, y_test.shape)"
   ]
  },
  {
   "cell_type": "code",
   "execution_count": 34,
   "id": "8cb72547",
   "metadata": {},
   "outputs": [
    {
     "name": "stdout",
     "output_type": "stream",
     "text": [
      "Model: \"model_6\"\n",
      "_________________________________________________________________\n",
      "Layer (type)                 Output Shape              Param #   \n",
      "=================================================================\n",
      "input_7 (InputLayer)         [(None, 2, 1)]            0         \n",
      "_________________________________________________________________\n",
      "RNN (SimpleRNN)              (None, 1)                 3         \n",
      "_________________________________________________________________\n",
      "dense (Dense)                (None, 1)                 2         \n",
      "=================================================================\n",
      "Total params: 5\n",
      "Trainable params: 5\n",
      "Non-trainable params: 0\n",
      "_________________________________________________________________\n"
     ]
    }
   ],
   "source": [
    "def partII_model(length_of_sequences, batch_size = None, stateful = False):\n",
    "    in_out_neurons = 1\n",
    "    hidden_neurons = 1\n",
    "    inp = Input(batch_shape=(batch_size, \n",
    "                length_of_sequences, \n",
    "                in_out_neurons))  \n",
    "\n",
    "    rnn = SimpleRNN(hidden_neurons, \n",
    "                    return_sequences=False,\n",
    "                    stateful = stateful,\n",
    "                    name=\"RNN\")(inp)\n",
    "\n",
    "    dens = Dense(in_out_neurons,name=\"dense\")(rnn)\n",
    "    model = Model(inputs=[inp],outputs=[dens])\n",
    "    \n",
    "    model.compile(loss=\"mean_squared_error\", optimizer=\"rmsprop\")\n",
    "\n",
    "    \n",
    "    return(model,(inp,rnn,dens))\n",
    "model, (inp,rnn,dens) = partII_model(length_of_sequences = X_train.shape[1])\n",
    "model.summary()"
   ]
  },
  {
   "cell_type": "code",
   "execution_count": null,
   "id": "a8fc6e1e",
   "metadata": {},
   "outputs": [],
   "source": []
  }
 ],
 "metadata": {
  "kernelspec": {
   "display_name": "Python 3",
   "language": "python",
   "name": "python3"
  },
  "language_info": {
   "codemirror_mode": {
    "name": "ipython",
    "version": 3
   },
   "file_extension": ".py",
   "mimetype": "text/x-python",
   "name": "python",
   "nbconvert_exporter": "python",
   "pygments_lexer": "ipython3",
   "version": "3.8.8"
  }
 },
 "nbformat": 4,
 "nbformat_minor": 5
}
