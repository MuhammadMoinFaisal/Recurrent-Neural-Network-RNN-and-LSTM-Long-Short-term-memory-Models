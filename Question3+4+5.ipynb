{
 "cells": [
  {
   "cell_type": "markdown",
   "id": "0e46eff1",
   "metadata": {},
   "source": [
    "# Part III"
   ]
  },
  {
   "cell_type": "markdown",
   "id": "0bb575ac",
   "metadata": {},
   "source": [
    "# Overview"
   ]
  },
  {
   "cell_type": "raw",
   "id": "2c8b5b42",
   "metadata": {},
   "source": [
    "The following part is implemented considering the following steps:\n",
    "    In the first step we downloaded the data, from the following link: \n",
    "        https://www.kaggle.com/nicholasjhana/multi-variate-time-series-forecasting-tensorflow/data\n",
    "    In the second step, i imported the required libraries and load the data and then analyze the data\n",
    "    In the third step, i performed the train & test split\n",
    "    In the fourth step, i preprocess the data\n",
    "    In the fifth step, i reshape the  X_train and X_test into 3 dimensions to implement LSTM\n",
    "    In the sixth step, i created an LSTM Model\n",
    "    In the seventh step, I created a train prediction, test prediction plot and orignal plot\n",
    "    In the eight step, i plotted the forecast for the next 30 days\n",
    "\n",
    "Number of LSTM layers\n",
    "3\n",
    "Number of neurons per LSTM layer\n",
    "50\n",
    "Number of DropOut layer\n",
    "3\n",
    "Length of the input sequence\n",
    "(100, 1)\n",
    "batch size\n",
    "64\n",
    "\n",
    "    \n",
    "        "
   ]
  },
  {
   "cell_type": "markdown",
   "id": "718abc02",
   "metadata": {},
   "source": [
    "# Collecting Data"
   ]
  },
  {
   "cell_type": "raw",
   "id": "24909393",
   "metadata": {},
   "source": [
    "Import Libraries"
   ]
  },
  {
   "cell_type": "code",
   "execution_count": 78,
   "id": "40463008",
   "metadata": {},
   "outputs": [],
   "source": [
    "import pandas as pd\n",
    "import numpy as np"
   ]
  },
  {
   "cell_type": "raw",
   "id": "41b241bd",
   "metadata": {},
   "source": [
    "Load the Dataset"
   ]
  },
  {
   "cell_type": "code",
   "execution_count": 79,
   "id": "6b1dc160",
   "metadata": {},
   "outputs": [],
   "source": [
    "df = pd.read_csv(\"energy_dataset.csv\")"
   ]
  },
  {
   "cell_type": "code",
   "execution_count": 80,
   "id": "1b652579",
   "metadata": {},
   "outputs": [
    {
     "data": {
      "text/html": [
       "<div>\n",
       "<style scoped>\n",
       "    .dataframe tbody tr th:only-of-type {\n",
       "        vertical-align: middle;\n",
       "    }\n",
       "\n",
       "    .dataframe tbody tr th {\n",
       "        vertical-align: top;\n",
       "    }\n",
       "\n",
       "    .dataframe thead th {\n",
       "        text-align: right;\n",
       "    }\n",
       "</style>\n",
       "<table border=\"1\" class=\"dataframe\">\n",
       "  <thead>\n",
       "    <tr style=\"text-align: right;\">\n",
       "      <th></th>\n",
       "      <th>time</th>\n",
       "      <th>generation biomass</th>\n",
       "      <th>generation fossil brown coal/lignite</th>\n",
       "      <th>generation fossil coal-derived gas</th>\n",
       "      <th>generation fossil gas</th>\n",
       "      <th>generation fossil hard coal</th>\n",
       "      <th>generation fossil oil</th>\n",
       "      <th>generation fossil oil shale</th>\n",
       "      <th>generation fossil peat</th>\n",
       "      <th>generation geothermal</th>\n",
       "      <th>...</th>\n",
       "      <th>generation waste</th>\n",
       "      <th>generation wind offshore</th>\n",
       "      <th>generation wind onshore</th>\n",
       "      <th>forecast solar day ahead</th>\n",
       "      <th>forecast wind offshore eday ahead</th>\n",
       "      <th>forecast wind onshore day ahead</th>\n",
       "      <th>total load forecast</th>\n",
       "      <th>total load actual</th>\n",
       "      <th>price day ahead</th>\n",
       "      <th>price actual</th>\n",
       "    </tr>\n",
       "  </thead>\n",
       "  <tbody>\n",
       "    <tr>\n",
       "      <th>0</th>\n",
       "      <td>2015-01-01 00:00:00+01:00</td>\n",
       "      <td>447.0</td>\n",
       "      <td>329.0</td>\n",
       "      <td>0.0</td>\n",
       "      <td>4844.0</td>\n",
       "      <td>4821.0</td>\n",
       "      <td>162.0</td>\n",
       "      <td>0.0</td>\n",
       "      <td>0.0</td>\n",
       "      <td>0.0</td>\n",
       "      <td>...</td>\n",
       "      <td>196.0</td>\n",
       "      <td>0.0</td>\n",
       "      <td>6378.0</td>\n",
       "      <td>17.0</td>\n",
       "      <td>NaN</td>\n",
       "      <td>6436.0</td>\n",
       "      <td>26118.0</td>\n",
       "      <td>25385.0</td>\n",
       "      <td>50.10</td>\n",
       "      <td>65.41</td>\n",
       "    </tr>\n",
       "    <tr>\n",
       "      <th>1</th>\n",
       "      <td>2015-01-01 01:00:00+01:00</td>\n",
       "      <td>449.0</td>\n",
       "      <td>328.0</td>\n",
       "      <td>0.0</td>\n",
       "      <td>5196.0</td>\n",
       "      <td>4755.0</td>\n",
       "      <td>158.0</td>\n",
       "      <td>0.0</td>\n",
       "      <td>0.0</td>\n",
       "      <td>0.0</td>\n",
       "      <td>...</td>\n",
       "      <td>195.0</td>\n",
       "      <td>0.0</td>\n",
       "      <td>5890.0</td>\n",
       "      <td>16.0</td>\n",
       "      <td>NaN</td>\n",
       "      <td>5856.0</td>\n",
       "      <td>24934.0</td>\n",
       "      <td>24382.0</td>\n",
       "      <td>48.10</td>\n",
       "      <td>64.92</td>\n",
       "    </tr>\n",
       "    <tr>\n",
       "      <th>2</th>\n",
       "      <td>2015-01-01 02:00:00+01:00</td>\n",
       "      <td>448.0</td>\n",
       "      <td>323.0</td>\n",
       "      <td>0.0</td>\n",
       "      <td>4857.0</td>\n",
       "      <td>4581.0</td>\n",
       "      <td>157.0</td>\n",
       "      <td>0.0</td>\n",
       "      <td>0.0</td>\n",
       "      <td>0.0</td>\n",
       "      <td>...</td>\n",
       "      <td>196.0</td>\n",
       "      <td>0.0</td>\n",
       "      <td>5461.0</td>\n",
       "      <td>8.0</td>\n",
       "      <td>NaN</td>\n",
       "      <td>5454.0</td>\n",
       "      <td>23515.0</td>\n",
       "      <td>22734.0</td>\n",
       "      <td>47.33</td>\n",
       "      <td>64.48</td>\n",
       "    </tr>\n",
       "    <tr>\n",
       "      <th>3</th>\n",
       "      <td>2015-01-01 03:00:00+01:00</td>\n",
       "      <td>438.0</td>\n",
       "      <td>254.0</td>\n",
       "      <td>0.0</td>\n",
       "      <td>4314.0</td>\n",
       "      <td>4131.0</td>\n",
       "      <td>160.0</td>\n",
       "      <td>0.0</td>\n",
       "      <td>0.0</td>\n",
       "      <td>0.0</td>\n",
       "      <td>...</td>\n",
       "      <td>191.0</td>\n",
       "      <td>0.0</td>\n",
       "      <td>5238.0</td>\n",
       "      <td>2.0</td>\n",
       "      <td>NaN</td>\n",
       "      <td>5151.0</td>\n",
       "      <td>22642.0</td>\n",
       "      <td>21286.0</td>\n",
       "      <td>42.27</td>\n",
       "      <td>59.32</td>\n",
       "    </tr>\n",
       "    <tr>\n",
       "      <th>4</th>\n",
       "      <td>2015-01-01 04:00:00+01:00</td>\n",
       "      <td>428.0</td>\n",
       "      <td>187.0</td>\n",
       "      <td>0.0</td>\n",
       "      <td>4130.0</td>\n",
       "      <td>3840.0</td>\n",
       "      <td>156.0</td>\n",
       "      <td>0.0</td>\n",
       "      <td>0.0</td>\n",
       "      <td>0.0</td>\n",
       "      <td>...</td>\n",
       "      <td>189.0</td>\n",
       "      <td>0.0</td>\n",
       "      <td>4935.0</td>\n",
       "      <td>9.0</td>\n",
       "      <td>NaN</td>\n",
       "      <td>4861.0</td>\n",
       "      <td>21785.0</td>\n",
       "      <td>20264.0</td>\n",
       "      <td>38.41</td>\n",
       "      <td>56.04</td>\n",
       "    </tr>\n",
       "  </tbody>\n",
       "</table>\n",
       "<p>5 rows × 29 columns</p>\n",
       "</div>"
      ],
      "text/plain": [
       "                        time  generation biomass  \\\n",
       "0  2015-01-01 00:00:00+01:00               447.0   \n",
       "1  2015-01-01 01:00:00+01:00               449.0   \n",
       "2  2015-01-01 02:00:00+01:00               448.0   \n",
       "3  2015-01-01 03:00:00+01:00               438.0   \n",
       "4  2015-01-01 04:00:00+01:00               428.0   \n",
       "\n",
       "   generation fossil brown coal/lignite  generation fossil coal-derived gas  \\\n",
       "0                                 329.0                                 0.0   \n",
       "1                                 328.0                                 0.0   \n",
       "2                                 323.0                                 0.0   \n",
       "3                                 254.0                                 0.0   \n",
       "4                                 187.0                                 0.0   \n",
       "\n",
       "   generation fossil gas  generation fossil hard coal  generation fossil oil  \\\n",
       "0                 4844.0                       4821.0                  162.0   \n",
       "1                 5196.0                       4755.0                  158.0   \n",
       "2                 4857.0                       4581.0                  157.0   \n",
       "3                 4314.0                       4131.0                  160.0   \n",
       "4                 4130.0                       3840.0                  156.0   \n",
       "\n",
       "   generation fossil oil shale  generation fossil peat  generation geothermal  \\\n",
       "0                          0.0                     0.0                    0.0   \n",
       "1                          0.0                     0.0                    0.0   \n",
       "2                          0.0                     0.0                    0.0   \n",
       "3                          0.0                     0.0                    0.0   \n",
       "4                          0.0                     0.0                    0.0   \n",
       "\n",
       "   ...  generation waste  generation wind offshore  generation wind onshore  \\\n",
       "0  ...             196.0                       0.0                   6378.0   \n",
       "1  ...             195.0                       0.0                   5890.0   \n",
       "2  ...             196.0                       0.0                   5461.0   \n",
       "3  ...             191.0                       0.0                   5238.0   \n",
       "4  ...             189.0                       0.0                   4935.0   \n",
       "\n",
       "   forecast solar day ahead  forecast wind offshore eday ahead  \\\n",
       "0                      17.0                                NaN   \n",
       "1                      16.0                                NaN   \n",
       "2                       8.0                                NaN   \n",
       "3                       2.0                                NaN   \n",
       "4                       9.0                                NaN   \n",
       "\n",
       "   forecast wind onshore day ahead  total load forecast  total load actual  \\\n",
       "0                           6436.0              26118.0            25385.0   \n",
       "1                           5856.0              24934.0            24382.0   \n",
       "2                           5454.0              23515.0            22734.0   \n",
       "3                           5151.0              22642.0            21286.0   \n",
       "4                           4861.0              21785.0            20264.0   \n",
       "\n",
       "   price day ahead  price actual  \n",
       "0            50.10         65.41  \n",
       "1            48.10         64.92  \n",
       "2            47.33         64.48  \n",
       "3            42.27         59.32  \n",
       "4            38.41         56.04  \n",
       "\n",
       "[5 rows x 29 columns]"
      ]
     },
     "execution_count": 80,
     "metadata": {},
     "output_type": "execute_result"
    }
   ],
   "source": [
    "df.head()"
   ]
  },
  {
   "cell_type": "code",
   "execution_count": 81,
   "id": "d70b3708",
   "metadata": {},
   "outputs": [
    {
     "data": {
      "text/plain": [
       "(35064, 29)"
      ]
     },
     "execution_count": 81,
     "metadata": {},
     "output_type": "execute_result"
    }
   ],
   "source": [
    "df.shape"
   ]
  },
  {
   "cell_type": "code",
   "execution_count": 82,
   "id": "119ab692",
   "metadata": {},
   "outputs": [
    {
     "data": {
      "text/plain": [
       "Index(['time', 'generation biomass', 'generation fossil brown coal/lignite',\n",
       "       'generation fossil coal-derived gas', 'generation fossil gas',\n",
       "       'generation fossil hard coal', 'generation fossil oil',\n",
       "       'generation fossil oil shale', 'generation fossil peat',\n",
       "       'generation geothermal', 'generation hydro pumped storage aggregated',\n",
       "       'generation hydro pumped storage consumption',\n",
       "       'generation hydro run-of-river and poundage',\n",
       "       'generation hydro water reservoir', 'generation marine',\n",
       "       'generation nuclear', 'generation other', 'generation other renewable',\n",
       "       'generation solar', 'generation waste', 'generation wind offshore',\n",
       "       'generation wind onshore', 'forecast solar day ahead',\n",
       "       'forecast wind offshore eday ahead', 'forecast wind onshore day ahead',\n",
       "       'total load forecast', 'total load actual', 'price day ahead',\n",
       "       'price actual'],\n",
       "      dtype='object')"
      ]
     },
     "execution_count": 82,
     "metadata": {},
     "output_type": "execute_result"
    }
   ],
   "source": [
    "df.columns"
   ]
  },
  {
   "cell_type": "code",
   "execution_count": 83,
   "id": "63e9b59a",
   "metadata": {},
   "outputs": [],
   "source": [
    "df1 = df.reset_index()['price actual']"
   ]
  },
  {
   "cell_type": "raw",
   "id": "73d65b7e",
   "metadata": {},
   "source": [
    "Import the Matplotlib library for Plotting Purpose"
   ]
  },
  {
   "cell_type": "code",
   "execution_count": 84,
   "id": "58449626",
   "metadata": {},
   "outputs": [],
   "source": [
    "import matplotlib.pyplot as plt"
   ]
  },
  {
   "cell_type": "code",
   "execution_count": 85,
   "id": "fa3d116c",
   "metadata": {},
   "outputs": [
    {
     "data": {
      "text/plain": [
       "[<matplotlib.lines.Line2D at 0x1d43f014040>]"
      ]
     },
     "execution_count": 85,
     "metadata": {},
     "output_type": "execute_result"
    },
    {
     "data": {
      "image/png": "[encoded data removed]",
      "text/plain": [
       "<Figure size 432x288 with 1 Axes>"
      ]
     },
     "metadata": {
      "needs_background": "light"
     },
     "output_type": "display_data"
    }
   ],
   "source": [
    "plt.plot(df1)"
   ]
  },
  {
   "cell_type": "raw",
   "id": "47b22232",
   "metadata": {},
   "source": [
    "LSTM are very sensitive to the scale of the data, so we apply Min Max Scaler, where we will be transforming our values from 0-1"
   ]
  },
  {
   "cell_type": "raw",
   "id": "af2c6f90",
   "metadata": {},
   "source": [
    "We will first import the required libraries for this purpose"
   ]
  },
  {
   "cell_type": "code",
   "execution_count": 86,
   "id": "45497e3e",
   "metadata": {},
   "outputs": [],
   "source": [
    "from sklearn.preprocessing import MinMaxScaler"
   ]
  },
  {
   "cell_type": "code",
   "execution_count": 87,
   "id": "a991d0b9",
   "metadata": {},
   "outputs": [],
   "source": [
    "scaler = MinMaxScaler(feature_range = (0, 1))"
   ]
  },
  {
   "cell_type": "code",
   "execution_count": 88,
   "id": "2ff8016c",
   "metadata": {},
   "outputs": [],
   "source": [
    "df1 = scaler.fit_transform(np.array(df1).reshape(-1, 1))"
   ]
  },
  {
   "cell_type": "code",
   "execution_count": 89,
   "id": "945761d3",
   "metadata": {},
   "outputs": [
    {
     "data": {
      "text/plain": [
       "(35064, 1)"
      ]
     },
     "execution_count": 89,
     "metadata": {},
     "output_type": "execute_result"
    }
   ],
   "source": [
    "df1.shape"
   ]
  },
  {
   "cell_type": "markdown",
   "id": "a45f264d",
   "metadata": {},
   "source": [
    "# Pre-process the Data - Train & Test"
   ]
  },
  {
   "cell_type": "raw",
   "id": "58ea3259",
   "metadata": {},
   "source": [
    "There are various ways of doing train & test split\n",
    "\n",
    "(1)- Cross Validation\n",
    "(2)- Random Seed\n",
    "\n",
    "These methods work very good in case of classification/ regression problem\n",
    "\n",
    "In case of time series data, we should divide data based on date i.e Day 2 can be dependent on Day 1\n"
   ]
  },
  {
   "cell_type": "raw",
   "id": "76c417a8",
   "metadata": {},
   "source": [
    "After doing this division we will do the pre-processing\n",
    "\n",
    "Splitting Dataset into Train & Test Split"
   ]
  },
  {
   "cell_type": "code",
   "execution_count": 90,
   "id": "01b2a1cb",
   "metadata": {},
   "outputs": [],
   "source": [
    "training_size = int(len(df1)*0.65)"
   ]
  },
  {
   "cell_type": "code",
   "execution_count": 91,
   "id": "9aec68b8",
   "metadata": {},
   "outputs": [],
   "source": [
    "test_size = len(df1) - training_size "
   ]
  },
  {
   "cell_type": "code",
   "execution_count": 92,
   "id": "ed2f95fb",
   "metadata": {},
   "outputs": [],
   "source": [
    "train_data, test_data = df1[0: training_size], df1[training_size:len(df1),:1]"
   ]
  },
  {
   "cell_type": "code",
   "execution_count": 93,
   "id": "0b7ed7d6",
   "metadata": {},
   "outputs": [
    {
     "data": {
      "text/plain": [
       "(22791, 12273)"
      ]
     },
     "execution_count": 93,
     "metadata": {},
     "output_type": "execute_result"
    }
   ],
   "source": [
    "training_size, test_size"
   ]
  },
  {
   "cell_type": "code",
   "execution_count": 94,
   "id": "6fead1e9",
   "metadata": {},
   "outputs": [
    {
     "data": {
      "text/plain": [
       "(22791, 12273)"
      ]
     },
     "execution_count": 94,
     "metadata": {},
     "output_type": "execute_result"
    }
   ],
   "source": [
    "len(train_data), len(test_data)"
   ]
  },
  {
   "cell_type": "raw",
   "id": "ddab449a",
   "metadata": {},
   "source": [
    "Now doing Pre-processing"
   ]
  },
  {
   "cell_type": "code",
   "execution_count": 95,
   "id": "273a0edb",
   "metadata": {},
   "outputs": [],
   "source": [
    "import numpy as np"
   ]
  },
  {
   "cell_type": "raw",
   "id": "033819f8",
   "metadata": {},
   "source": [
    "Convert an array of values into a dataset matrix"
   ]
  },
  {
   "cell_type": "code",
   "execution_count": 96,
   "id": "7e40302d",
   "metadata": {},
   "outputs": [],
   "source": [
    "def create_dataset(dataset, time_step=1):\n",
    "    dataX, dataY = [], []\n",
    "    for i in range(len(dataset)-time_step-1):\n",
    "        a = dataset[i:(i+time_step), 0]   \n",
    "        dataX.append(a)\n",
    "        dataY.append(dataset[i + time_step, 0])\n",
    "    return numpy.array(dataX), numpy.array(dataY)"
   ]
  },
  {
   "cell_type": "code",
   "execution_count": 97,
   "id": "dd2e4b99",
   "metadata": {},
   "outputs": [],
   "source": [
    "time_step = 100\n",
    "X_train, y_train = create_dataset(train_data, time_step)\n",
    "X_test, y_test = create_dataset(test_data, time_step)"
   ]
  },
  {
   "cell_type": "code",
   "execution_count": 98,
   "id": "cef1fc1f",
   "metadata": {},
   "outputs": [
    {
     "name": "stdout",
     "output_type": "stream",
     "text": [
      "(22690, 100)\n",
      "(22690,)\n"
     ]
    },
    {
     "data": {
      "text/plain": [
       "(None, None)"
      ]
     },
     "execution_count": 98,
     "metadata": {},
     "output_type": "execute_result"
    }
   ],
   "source": [
    "print(X_train.shape), print(y_train.shape)"
   ]
  },
  {
   "cell_type": "code",
   "execution_count": 99,
   "id": "4427cb06",
   "metadata": {},
   "outputs": [
    {
     "name": "stdout",
     "output_type": "stream",
     "text": [
      "(12172, 100)\n",
      "(12172,)\n"
     ]
    },
    {
     "data": {
      "text/plain": [
       "(None, None)"
      ]
     },
     "execution_count": 99,
     "metadata": {},
     "output_type": "execute_result"
    }
   ],
   "source": [
    "print(X_test.shape), print(y_test.shape)"
   ]
  },
  {
   "cell_type": "raw",
   "id": "108ee30c",
   "metadata": {},
   "source": [
    "Before Implementing LSTM, we need to reshape our X_train and X_test into 3 dimensions"
   ]
  },
  {
   "cell_type": "code",
   "execution_count": 100,
   "id": "e5dd994d",
   "metadata": {},
   "outputs": [],
   "source": [
    "X_train = X_train.reshape(X_train.shape[0], X_train.shape[1], 1)\n",
    "X_test = X_test.reshape(X_test.shape[0], X_test.shape[1], 1)"
   ]
  },
  {
   "cell_type": "code",
   "execution_count": 101,
   "id": "aa8acbd7",
   "metadata": {},
   "outputs": [
    {
     "data": {
      "text/plain": [
       "(22690, 100, 1)"
      ]
     },
     "execution_count": 101,
     "metadata": {},
     "output_type": "execute_result"
    }
   ],
   "source": [
    "X_train.shape"
   ]
  },
  {
   "cell_type": "code",
   "execution_count": 102,
   "id": "4ccb60e2",
   "metadata": {},
   "outputs": [
    {
     "data": {
      "text/plain": [
       "(12172, 100, 1)"
      ]
     },
     "execution_count": 102,
     "metadata": {},
     "output_type": "execute_result"
    }
   ],
   "source": [
    "X_test.shape"
   ]
  },
  {
   "cell_type": "markdown",
   "id": "9126c409",
   "metadata": {},
   "source": [
    "# Creating an LSTM Model"
   ]
  },
  {
   "cell_type": "code",
   "execution_count": 103,
   "id": "58586fb7",
   "metadata": {},
   "outputs": [],
   "source": [
    "from tensorflow.keras.models import Sequential\n",
    "from tensorflow.keras.layers import Dense\n",
    "from tensorflow.keras.layers import LSTM, Dropout"
   ]
  },
  {
   "cell_type": "code",
   "execution_count": 104,
   "id": "f397ff2d",
   "metadata": {},
   "outputs": [],
   "source": [
    "model = Sequential()\n",
    "# First LSTM Layer\n",
    "model.add(LSTM(50, return_sequences = True, input_shape = (100, 1)))\n",
    "# Dropout Layer\n",
    "model.add(Dropout(0.5))\n",
    "# Second LSTM Layer\n",
    "model.add(LSTM(50, return_sequences = True))\n",
    "# Dropout Layer\n",
    "model.add(Dropout(0.5))\n",
    "# Third LSTM Layer\n",
    "model.add(LSTM(50))\n",
    "# Dropout Layer\n",
    "model.add(Dropout(0.5))\n",
    "# Output Layer\n",
    "model.add(Dense(1))\n",
    "# Compiling with the Mean Squared Error and the Optimizer is adam\n",
    "model.compile(loss = 'mean_squared_error', optimizer = 'adam')\n"
   ]
  },
  {
   "cell_type": "code",
   "execution_count": 105,
   "id": "00ac446c",
   "metadata": {},
   "outputs": [
    {
     "name": "stdout",
     "output_type": "stream",
     "text": [
      "Epoch 1/3\n",
      "355/355 [==============================] - 113s 303ms/step - loss: 0.0155 - val_loss: 0.0068\n",
      "Epoch 2/3\n",
      "355/355 [==============================] - 123s 347ms/step - loss: 0.0096 - val_loss: 0.0055\n",
      "Epoch 3/3\n",
      "355/355 [==============================] - 111s 314ms/step - loss: 0.0072 - val_loss: 0.0038\n"
     ]
    },
    {
     "data": {
      "text/plain": [
       "<keras.callbacks.History at 0x1d426117670>"
      ]
     },
     "execution_count": 105,
     "metadata": {},
     "output_type": "execute_result"
    }
   ],
   "source": [
    "model.fit(X_train, y_train, validation_data = (X_test, y_test), epochs = 3, batch_size = 64, verbose = 1)"
   ]
  },
  {
   "cell_type": "raw",
   "id": "363f859c",
   "metadata": {},
   "source": [
    "Lets do the prediction and check the performance metrics"
   ]
  },
  {
   "cell_type": "code",
   "execution_count": 106,
   "id": "e5c68276",
   "metadata": {},
   "outputs": [],
   "source": [
    "train_predict = model.predict(X_train)\n",
    "test_predict = model.predict(X_test)"
   ]
  },
  {
   "cell_type": "raw",
   "id": "c0bb0f10",
   "metadata": {},
   "source": [
    "Transform Back to Orignal Form "
   ]
  },
  {
   "cell_type": "raw",
   "id": "16bafd01",
   "metadata": {},
   "source": [
    "As above we have scaled it down, To find RMSE i have to transform it back to orignal form"
   ]
  },
  {
   "cell_type": "raw",
   "id": "c816dac2",
   "metadata": {},
   "source": [
    "Transform back to Orignal Form"
   ]
  },
  {
   "cell_type": "code",
   "execution_count": 107,
   "id": "ced416d6",
   "metadata": {},
   "outputs": [],
   "source": [
    "train_predict =  scaler.inverse_transform(train_predict)\n",
    "test_predict = scaler.inverse_transform(test_predict)\n"
   ]
  },
  {
   "cell_type": "raw",
   "id": "53f93daa",
   "metadata": {},
   "source": [
    "Calculate RMSE performance metrics"
   ]
  },
  {
   "cell_type": "code",
   "execution_count": 108,
   "id": "d7e6e6ee",
   "metadata": {},
   "outputs": [
    {
     "name": "stdout",
     "output_type": "stream",
     "text": [
      "56.94633523251323\n",
      "63.570902772646456\n"
     ]
    }
   ],
   "source": [
    "import math\n",
    "from sklearn.metrics import mean_squared_error\n",
    "# Train Data RMSE\n",
    "print(math.sqrt(mean_squared_error(y_train, train_predict)))\n",
    "# Test Data RMSE\n",
    "print(math.sqrt(mean_squared_error(y_test, test_predict)))\n"
   ]
  },
  {
   "cell_type": "code",
   "execution_count": 109,
   "id": "5940e22b",
   "metadata": {},
   "outputs": [
    {
     "data": {
      "image/png": "[encoded data removed]",
      "text/plain": [
       "<Figure size 432x288 with 1 Axes>"
      ]
     },
     "metadata": {
      "needs_background": "light"
     },
     "output_type": "display_data"
    }
   ],
   "source": [
    "# Plotting \n",
    "look_back=100\n",
    "trainPredictPlot = numpy.empty_like(df1)\n",
    "trainPredictPlot[:, :] = np.nan\n",
    "trainPredictPlot[look_back:len(train_predict)+look_back, :] = train_predict\n",
    "# shift test predictions for plotting\n",
    "testPredictPlot = numpy.empty_like(df1)\n",
    "testPredictPlot[:, :] = numpy.nan\n",
    "testPredictPlot[len(train_predict)+(look_back*2)+1:len(df1)-1, :] = test_predict\n",
    "# plot baseline and predictions\n",
    "plt.plot(scaler.inverse_transform(df1))\n",
    "plt.plot(trainPredictPlot)\n",
    "plt.plot(testPredictPlot)\n",
    "plt.show()"
   ]
  },
  {
   "cell_type": "code",
   "execution_count": 110,
   "id": "dcc47518",
   "metadata": {},
   "outputs": [
    {
     "data": {
      "text/plain": [
       "12273"
      ]
     },
     "execution_count": 110,
     "metadata": {},
     "output_type": "execute_result"
    }
   ],
   "source": [
    "len(test_data)"
   ]
  },
  {
   "cell_type": "code",
   "execution_count": 111,
   "id": "147ff934",
   "metadata": {},
   "outputs": [
    {
     "data": {
      "text/plain": [
       "(1, 100)"
      ]
     },
     "execution_count": 111,
     "metadata": {},
     "output_type": "execute_result"
    }
   ],
   "source": [
    "x_input=test_data[12173:].reshape(1,-1)\n",
    "x_input.shape"
   ]
  },
  {
   "cell_type": "code",
   "execution_count": 112,
   "id": "e2e5a938",
   "metadata": {},
   "outputs": [],
   "source": [
    "temp_input=list(x_input)\n",
    "temp_input=temp_input[0].tolist()"
   ]
  },
  {
   "cell_type": "code",
   "execution_count": 113,
   "id": "c5bf6809",
   "metadata": {},
   "outputs": [
    {
     "name": "stdout",
     "output_type": "stream",
     "text": [
      "[0.55760217]\n",
      "101\n",
      "1 day input [0.63571229 0.59504978 0.59691077 0.57318321 0.55159579 0.51046804\n",
      " 0.49502187 0.46943333 0.46980553 0.51121243 0.53484693 0.57737043\n",
      " 0.5922583  0.60481995 0.59104866 0.59039732 0.5686238  0.57076393\n",
      " 0.55503862 0.57913836 0.60426165 0.64138829 0.63059458 0.59802736\n",
      " 0.55717875 0.54154648 0.5094445  0.52256444 0.4735275  0.43202754\n",
      " 0.42430446 0.41723272 0.41704662 0.4192798  0.42960826 0.46012841\n",
      " 0.52228529 0.53540523 0.51921466 0.51307342 0.50162836 0.47976179\n",
      " 0.45984926 0.46366428 0.51046804 0.56908905 0.57392761 0.57122918\n",
      " 0.56769331 0.55196799 0.54880432 0.54015074 0.44998604 0.43677305\n",
      " 0.42867777 0.42635154 0.42616544 0.42811948 0.43751745 0.45007909\n",
      " 0.48795013 0.52265749 0.52423932 0.53745231 0.55894668 0.56359914\n",
      " 0.53633572 0.52247139 0.54778078 0.57783568 0.5865823  0.59570113\n",
      " 0.59839955 0.58239509 0.55978413 0.54964176 0.47445799 0.45035824\n",
      " 0.44970689 0.44393784 0.44803201 0.48199498 0.47799386 0.5332651\n",
      " 0.56760026 0.58425607 0.58137155 0.58704755 0.5812785  0.58267423\n",
      " 0.57243882 0.57718433 0.61226389 0.63534009 0.62985019 0.62184796\n",
      " 0.6045408  0.56350609 0.56341305 0.55760217]\n",
      "1 day output [[0.547964]]\n",
      "2 day input [0.59504978 0.59691077 0.57318321 0.55159579 0.51046804 0.49502187\n",
      " 0.46943333 0.46980553 0.51121243 0.53484693 0.57737043 0.5922583\n",
      " 0.60481995 0.59104866 0.59039732 0.5686238  0.57076393 0.55503862\n",
      " 0.57913836 0.60426165 0.64138829 0.63059458 0.59802736 0.55717875\n",
      " 0.54154648 0.5094445  0.52256444 0.4735275  0.43202754 0.42430446\n",
      " 0.41723272 0.41704662 0.4192798  0.42960826 0.46012841 0.52228529\n",
      " 0.53540523 0.51921466 0.51307342 0.50162836 0.47976179 0.45984926\n",
      " 0.46366428 0.51046804 0.56908905 0.57392761 0.57122918 0.56769331\n",
      " 0.55196799 0.54880432 0.54015074 0.44998604 0.43677305 0.42867777\n",
      " 0.42635154 0.42616544 0.42811948 0.43751745 0.45007909 0.48795013\n",
      " 0.52265749 0.52423932 0.53745231 0.55894668 0.56359914 0.53633572\n",
      " 0.52247139 0.54778078 0.57783568 0.5865823  0.59570113 0.59839955\n",
      " 0.58239509 0.55978413 0.54964176 0.47445799 0.45035824 0.44970689\n",
      " 0.44393784 0.44803201 0.48199498 0.47799386 0.5332651  0.56760026\n",
      " 0.58425607 0.58137155 0.58704755 0.5812785  0.58267423 0.57243882\n",
      " 0.57718433 0.61226389 0.63534009 0.62985019 0.62184796 0.6045408\n",
      " 0.56350609 0.56341305 0.55760217 0.54796398]\n",
      "2 day output [[0.54012096]]\n",
      "3 day input [0.59691077 0.57318321 0.55159579 0.51046804 0.49502187 0.46943333\n",
      " 0.46980553 0.51121243 0.53484693 0.57737043 0.5922583  0.60481995\n",
      " 0.59104866 0.59039732 0.5686238  0.57076393 0.55503862 0.57913836\n",
      " 0.60426165 0.64138829 0.63059458 0.59802736 0.55717875 0.54154648\n",
      " 0.5094445  0.52256444 0.4735275  0.43202754 0.42430446 0.41723272\n",
      " 0.41704662 0.4192798  0.42960826 0.46012841 0.52228529 0.53540523\n",
      " 0.51921466 0.51307342 0.50162836 0.47976179 0.45984926 0.46366428\n",
      " 0.51046804 0.56908905 0.57392761 0.57122918 0.56769331 0.55196799\n",
      " 0.54880432 0.54015074 0.44998604 0.43677305 0.42867777 0.42635154\n",
      " 0.42616544 0.42811948 0.43751745 0.45007909 0.48795013 0.52265749\n",
      " 0.52423932 0.53745231 0.55894668 0.56359914 0.53633572 0.52247139\n",
      " 0.54778078 0.57783568 0.5865823  0.59570113 0.59839955 0.58239509\n",
      " 0.55978413 0.54964176 0.47445799 0.45035824 0.44970689 0.44393784\n",
      " 0.44803201 0.48199498 0.47799386 0.5332651  0.56760026 0.58425607\n",
      " 0.58137155 0.58704755 0.5812785  0.58267423 0.57243882 0.57718433\n",
      " 0.61226389 0.63534009 0.62985019 0.62184796 0.6045408  0.56350609\n",
      " 0.56341305 0.55760217 0.54796398 0.54012096]\n",
      "3 day output [[0.5345507]]\n",
      "4 day input [0.57318321 0.55159579 0.51046804 0.49502187 0.46943333 0.46980553\n",
      " 0.51121243 0.53484693 0.57737043 0.5922583  0.60481995 0.59104866\n",
      " 0.59039732 0.5686238  0.57076393 0.55503862 0.57913836 0.60426165\n",
      " 0.64138829 0.63059458 0.59802736 0.55717875 0.54154648 0.5094445\n",
      " 0.52256444 0.4735275  0.43202754 0.42430446 0.41723272 0.41704662\n",
      " 0.4192798  0.42960826 0.46012841 0.52228529 0.53540523 0.51921466\n",
      " 0.51307342 0.50162836 0.47976179 0.45984926 0.46366428 0.51046804\n",
      " 0.56908905 0.57392761 0.57122918 0.56769331 0.55196799 0.54880432\n",
      " 0.54015074 0.44998604 0.43677305 0.42867777 0.42635154 0.42616544\n",
      " 0.42811948 0.43751745 0.45007909 0.48795013 0.52265749 0.52423932\n",
      " 0.53745231 0.55894668 0.56359914 0.53633572 0.52247139 0.54778078\n",
      " 0.57783568 0.5865823  0.59570113 0.59839955 0.58239509 0.55978413\n",
      " 0.54964176 0.47445799 0.45035824 0.44970689 0.44393784 0.44803201\n",
      " 0.48199498 0.47799386 0.5332651  0.56760026 0.58425607 0.58137155\n",
      " 0.58704755 0.5812785  0.58267423 0.57243882 0.57718433 0.61226389\n",
      " 0.63534009 0.62985019 0.62184796 0.6045408  0.56350609 0.56341305\n",
      " 0.55760217 0.54796398 0.54012096 0.53455073]\n",
      "4 day output [[0.5314789]]\n",
      "5 day input [0.55159579 0.51046804 0.49502187 0.46943333 0.46980553 0.51121243\n",
      " 0.53484693 0.57737043 0.5922583  0.60481995 0.59104866 0.59039732\n",
      " 0.5686238  0.57076393 0.55503862 0.57913836 0.60426165 0.64138829\n",
      " 0.63059458 0.59802736 0.55717875 0.54154648 0.5094445  0.52256444\n",
      " 0.4735275  0.43202754 0.42430446 0.41723272 0.41704662 0.4192798\n",
      " 0.42960826 0.46012841 0.52228529 0.53540523 0.51921466 0.51307342\n",
      " 0.50162836 0.47976179 0.45984926 0.46366428 0.51046804 0.56908905\n",
      " 0.57392761 0.57122918 0.56769331 0.55196799 0.54880432 0.54015074\n",
      " 0.44998604 0.43677305 0.42867777 0.42635154 0.42616544 0.42811948\n",
      " 0.43751745 0.45007909 0.48795013 0.52265749 0.52423932 0.53745231\n",
      " 0.55894668 0.56359914 0.53633572 0.52247139 0.54778078 0.57783568\n",
      " 0.5865823  0.59570113 0.59839955 0.58239509 0.55978413 0.54964176\n",
      " 0.47445799 0.45035824 0.44970689 0.44393784 0.44803201 0.48199498\n",
      " 0.47799386 0.5332651  0.56760026 0.58425607 0.58137155 0.58704755\n",
      " 0.5812785  0.58267423 0.57243882 0.57718433 0.61226389 0.63534009\n",
      " 0.62985019 0.62184796 0.6045408  0.56350609 0.56341305 0.55760217\n",
      " 0.54796398 0.54012096 0.53455073 0.53147888]\n",
      "5 day output [[0.53104866]]\n",
      "6 day input [0.51046804 0.49502187 0.46943333 0.46980553 0.51121243 0.53484693\n",
      " 0.57737043 0.5922583  0.60481995 0.59104866 0.59039732 0.5686238\n",
      " 0.57076393 0.55503862 0.57913836 0.60426165 0.64138829 0.63059458\n",
      " 0.59802736 0.55717875 0.54154648 0.5094445  0.52256444 0.4735275\n",
      " 0.43202754 0.42430446 0.41723272 0.41704662 0.4192798  0.42960826\n",
      " 0.46012841 0.52228529 0.53540523 0.51921466 0.51307342 0.50162836\n",
      " 0.47976179 0.45984926 0.46366428 0.51046804 0.56908905 0.57392761\n",
      " 0.57122918 0.56769331 0.55196799 0.54880432 0.54015074 0.44998604\n",
      " 0.43677305 0.42867777 0.42635154 0.42616544 0.42811948 0.43751745\n",
      " 0.45007909 0.48795013 0.52265749 0.52423932 0.53745231 0.55894668\n",
      " 0.56359914 0.53633572 0.52247139 0.54778078 0.57783568 0.5865823\n",
      " 0.59570113 0.59839955 0.58239509 0.55978413 0.54964176 0.47445799\n",
      " 0.45035824 0.44970689 0.44393784 0.44803201 0.48199498 0.47799386\n",
      " 0.5332651  0.56760026 0.58425607 0.58137155 0.58704755 0.5812785\n",
      " 0.58267423 0.57243882 0.57718433 0.61226389 0.63534009 0.62985019\n",
      " 0.62184796 0.6045408  0.56350609 0.56341305 0.55760217 0.54796398\n",
      " 0.54012096 0.53455073 0.53147888 0.53104866]\n",
      "6 day output [[0.5331983]]\n",
      "7 day input [0.49502187 0.46943333 0.46980553 0.51121243 0.53484693 0.57737043\n",
      " 0.5922583  0.60481995 0.59104866 0.59039732 0.5686238  0.57076393\n",
      " 0.55503862 0.57913836 0.60426165 0.64138829 0.63059458 0.59802736\n",
      " 0.55717875 0.54154648 0.5094445  0.52256444 0.4735275  0.43202754\n",
      " 0.42430446 0.41723272 0.41704662 0.4192798  0.42960826 0.46012841\n",
      " 0.52228529 0.53540523 0.51921466 0.51307342 0.50162836 0.47976179\n",
      " 0.45984926 0.46366428 0.51046804 0.56908905 0.57392761 0.57122918\n",
      " 0.56769331 0.55196799 0.54880432 0.54015074 0.44998604 0.43677305\n",
      " 0.42867777 0.42635154 0.42616544 0.42811948 0.43751745 0.45007909\n",
      " 0.48795013 0.52265749 0.52423932 0.53745231 0.55894668 0.56359914\n",
      " 0.53633572 0.52247139 0.54778078 0.57783568 0.5865823  0.59570113\n",
      " 0.59839955 0.58239509 0.55978413 0.54964176 0.47445799 0.45035824\n",
      " 0.44970689 0.44393784 0.44803201 0.48199498 0.47799386 0.5332651\n",
      " 0.56760026 0.58425607 0.58137155 0.58704755 0.5812785  0.58267423\n",
      " 0.57243882 0.57718433 0.61226389 0.63534009 0.62985019 0.62184796\n",
      " 0.6045408  0.56350609 0.56341305 0.55760217 0.54796398 0.54012096\n",
      " 0.53455073 0.53147888 0.53104866 0.5331983 ]\n",
      "7 day output [[0.5377183]]\n",
      "8 day input [0.46943333 0.46980553 0.51121243 0.53484693 0.57737043 0.5922583\n",
      " 0.60481995 0.59104866 0.59039732 0.5686238  0.57076393 0.55503862\n",
      " 0.57913836 0.60426165 0.64138829 0.63059458 0.59802736 0.55717875\n",
      " 0.54154648 0.5094445  0.52256444 0.4735275  0.43202754 0.42430446\n",
      " 0.41723272 0.41704662 0.4192798  0.42960826 0.46012841 0.52228529\n",
      " 0.53540523 0.51921466 0.51307342 0.50162836 0.47976179 0.45984926\n",
      " 0.46366428 0.51046804 0.56908905 0.57392761 0.57122918 0.56769331\n",
      " 0.55196799 0.54880432 0.54015074 0.44998604 0.43677305 0.42867777\n",
      " 0.42635154 0.42616544 0.42811948 0.43751745 0.45007909 0.48795013\n",
      " 0.52265749 0.52423932 0.53745231 0.55894668 0.56359914 0.53633572\n",
      " 0.52247139 0.54778078 0.57783568 0.5865823  0.59570113 0.59839955\n",
      " 0.58239509 0.55978413 0.54964176 0.47445799 0.45035824 0.44970689\n",
      " 0.44393784 0.44803201 0.48199498 0.47799386 0.5332651  0.56760026\n",
      " 0.58425607 0.58137155 0.58704755 0.5812785  0.58267423 0.57243882\n",
      " 0.57718433 0.61226389 0.63534009 0.62985019 0.62184796 0.6045408\n",
      " 0.56350609 0.56341305 0.55760217 0.54796398 0.54012096 0.53455073\n",
      " 0.53147888 0.53104866 0.5331983  0.5377183 ]\n",
      "8 day output [[0.54419816]]\n",
      "9 day input [0.46980553 0.51121243 0.53484693 0.57737043 0.5922583  0.60481995\n",
      " 0.59104866 0.59039732 0.5686238  0.57076393 0.55503862 0.57913836\n",
      " 0.60426165 0.64138829 0.63059458 0.59802736 0.55717875 0.54154648\n",
      " 0.5094445  0.52256444 0.4735275  0.43202754 0.42430446 0.41723272\n",
      " 0.41704662 0.4192798  0.42960826 0.46012841 0.52228529 0.53540523\n",
      " 0.51921466 0.51307342 0.50162836 0.47976179 0.45984926 0.46366428\n",
      " 0.51046804 0.56908905 0.57392761 0.57122918 0.56769331 0.55196799\n",
      " 0.54880432 0.54015074 0.44998604 0.43677305 0.42867777 0.42635154\n",
      " 0.42616544 0.42811948 0.43751745 0.45007909 0.48795013 0.52265749\n",
      " 0.52423932 0.53745231 0.55894668 0.56359914 0.53633572 0.52247139\n",
      " 0.54778078 0.57783568 0.5865823  0.59570113 0.59839955 0.58239509\n",
      " 0.55978413 0.54964176 0.47445799 0.45035824 0.44970689 0.44393784\n",
      " 0.44803201 0.48199498 0.47799386 0.5332651  0.56760026 0.58425607\n",
      " 0.58137155 0.58704755 0.5812785  0.58267423 0.57243882 0.57718433\n",
      " 0.61226389 0.63534009 0.62985019 0.62184796 0.6045408  0.56350609\n",
      " 0.56341305 0.55760217 0.54796398 0.54012096 0.53455073 0.53147888\n",
      " 0.53104866 0.5331983  0.5377183  0.54419816]\n",
      "9 day output [[0.55215085]]\n",
      "10 day input [0.51121243 0.53484693 0.57737043 0.5922583  0.60481995 0.59104866\n",
      " 0.59039732 0.5686238  0.57076393 0.55503862 0.57913836 0.60426165\n",
      " 0.64138829 0.63059458 0.59802736 0.55717875 0.54154648 0.5094445\n",
      " 0.52256444 0.4735275  0.43202754 0.42430446 0.41723272 0.41704662\n",
      " 0.4192798  0.42960826 0.46012841 0.52228529 0.53540523 0.51921466\n",
      " 0.51307342 0.50162836 0.47976179 0.45984926 0.46366428 0.51046804\n",
      " 0.56908905 0.57392761 0.57122918 0.56769331 0.55196799 0.54880432\n",
      " 0.54015074 0.44998604 0.43677305 0.42867777 0.42635154 0.42616544\n",
      " 0.42811948 0.43751745 0.45007909 0.48795013 0.52265749 0.52423932\n",
      " 0.53745231 0.55894668 0.56359914 0.53633572 0.52247139 0.54778078\n",
      " 0.57783568 0.5865823  0.59570113 0.59839955 0.58239509 0.55978413\n",
      " 0.54964176 0.47445799 0.45035824 0.44970689 0.44393784 0.44803201\n",
      " 0.48199498 0.47799386 0.5332651  0.56760026 0.58425607 0.58137155\n",
      " 0.58704755 0.5812785  0.58267423 0.57243882 0.57718433 0.61226389\n",
      " 0.63534009 0.62985019 0.62184796 0.6045408  0.56350609 0.56341305\n",
      " 0.55760217 0.54796398 0.54012096 0.53455073 0.53147888 0.53104866\n",
      " 0.5331983  0.5377183  0.54419816 0.55215085]\n",
      "10 day output [[0.5609765]]\n",
      "11 day input [0.53484693 0.57737043 0.5922583  0.60481995 0.59104866 0.59039732\n",
      " 0.5686238  0.57076393 0.55503862 0.57913836 0.60426165 0.64138829\n",
      " 0.63059458 0.59802736 0.55717875 0.54154648 0.5094445  0.52256444\n",
      " 0.4735275  0.43202754 0.42430446 0.41723272 0.41704662 0.4192798\n",
      " 0.42960826 0.46012841 0.52228529 0.53540523 0.51921466 0.51307342\n",
      " 0.50162836 0.47976179 0.45984926 0.46366428 0.51046804 0.56908905\n",
      " 0.57392761 0.57122918 0.56769331 0.55196799 0.54880432 0.54015074\n",
      " 0.44998604 0.43677305 0.42867777 0.42635154 0.42616544 0.42811948\n",
      " 0.43751745 0.45007909 0.48795013 0.52265749 0.52423932 0.53745231\n",
      " 0.55894668 0.56359914 0.53633572 0.52247139 0.54778078 0.57783568\n",
      " 0.5865823  0.59570113 0.59839955 0.58239509 0.55978413 0.54964176\n",
      " 0.47445799 0.45035824 0.44970689 0.44393784 0.44803201 0.48199498\n",
      " 0.47799386 0.5332651  0.56760026 0.58425607 0.58137155 0.58704755\n",
      " 0.5812785  0.58267423 0.57243882 0.57718433 0.61226389 0.63534009\n",
      " 0.62985019 0.62184796 0.6045408  0.56350609 0.56341305 0.55760217\n",
      " 0.54796398 0.54012096 0.53455073 0.53147888 0.53104866 0.5331983\n",
      " 0.5377183  0.54419816 0.55215085 0.56097651]\n",
      "11 day output [[0.5700462]]\n",
      "12 day input [0.57737043 0.5922583  0.60481995 0.59104866 0.59039732 0.5686238\n",
      " 0.57076393 0.55503862 0.57913836 0.60426165 0.64138829 0.63059458\n",
      " 0.59802736 0.55717875 0.54154648 0.5094445  0.52256444 0.4735275\n",
      " 0.43202754 0.42430446 0.41723272 0.41704662 0.4192798  0.42960826\n",
      " 0.46012841 0.52228529 0.53540523 0.51921466 0.51307342 0.50162836\n",
      " 0.47976179 0.45984926 0.46366428 0.51046804 0.56908905 0.57392761\n",
      " 0.57122918 0.56769331 0.55196799 0.54880432 0.54015074 0.44998604\n",
      " 0.43677305 0.42867777 0.42635154 0.42616544 0.42811948 0.43751745\n",
      " 0.45007909 0.48795013 0.52265749 0.52423932 0.53745231 0.55894668\n",
      " 0.56359914 0.53633572 0.52247139 0.54778078 0.57783568 0.5865823\n",
      " 0.59570113 0.59839955 0.58239509 0.55978413 0.54964176 0.47445799\n",
      " 0.45035824 0.44970689 0.44393784 0.44803201 0.48199498 0.47799386\n",
      " 0.5332651  0.56760026 0.58425607 0.58137155 0.58704755 0.5812785\n",
      " 0.58267423 0.57243882 0.57718433 0.61226389 0.63534009 0.62985019\n",
      " 0.62184796 0.6045408  0.56350609 0.56341305 0.55760217 0.54796398\n",
      " 0.54012096 0.53455073 0.53147888 0.53104866 0.5331983  0.5377183\n",
      " 0.54419816 0.55215085 0.56097651 0.57004619]\n",
      "12 day output [[0.57879376]]\n",
      "13 day input [0.5922583  0.60481995 0.59104866 0.59039732 0.5686238  0.57076393\n",
      " 0.55503862 0.57913836 0.60426165 0.64138829 0.63059458 0.59802736\n",
      " 0.55717875 0.54154648 0.5094445  0.52256444 0.4735275  0.43202754\n",
      " 0.42430446 0.41723272 0.41704662 0.4192798  0.42960826 0.46012841\n",
      " 0.52228529 0.53540523 0.51921466 0.51307342 0.50162836 0.47976179\n",
      " 0.45984926 0.46366428 0.51046804 0.56908905 0.57392761 0.57122918\n",
      " 0.56769331 0.55196799 0.54880432 0.54015074 0.44998604 0.43677305\n",
      " 0.42867777 0.42635154 0.42616544 0.42811948 0.43751745 0.45007909\n",
      " 0.48795013 0.52265749 0.52423932 0.53745231 0.55894668 0.56359914\n",
      " 0.53633572 0.52247139 0.54778078 0.57783568 0.5865823  0.59570113\n",
      " 0.59839955 0.58239509 0.55978413 0.54964176 0.47445799 0.45035824\n",
      " 0.44970689 0.44393784 0.44803201 0.48199498 0.47799386 0.5332651\n",
      " 0.56760026 0.58425607 0.58137155 0.58704755 0.5812785  0.58267423\n",
      " 0.57243882 0.57718433 0.61226389 0.63534009 0.62985019 0.62184796\n",
      " 0.6045408  0.56350609 0.56341305 0.55760217 0.54796398 0.54012096\n",
      " 0.53455073 0.53147888 0.53104866 0.5331983  0.5377183  0.54419816\n",
      " 0.55215085 0.56097651 0.57004619 0.57879376]\n",
      "13 day output [[0.5866536]]\n",
      "14 day input [0.60481995 0.59104866 0.59039732 0.5686238  0.57076393 0.55503862\n",
      " 0.57913836 0.60426165 0.64138829 0.63059458 0.59802736 0.55717875\n",
      " 0.54154648 0.5094445  0.52256444 0.4735275  0.43202754 0.42430446\n",
      " 0.41723272 0.41704662 0.4192798  0.42960826 0.46012841 0.52228529\n",
      " 0.53540523 0.51921466 0.51307342 0.50162836 0.47976179 0.45984926\n",
      " 0.46366428 0.51046804 0.56908905 0.57392761 0.57122918 0.56769331\n",
      " 0.55196799 0.54880432 0.54015074 0.44998604 0.43677305 0.42867777\n",
      " 0.42635154 0.42616544 0.42811948 0.43751745 0.45007909 0.48795013\n",
      " 0.52265749 0.52423932 0.53745231 0.55894668 0.56359914 0.53633572\n",
      " 0.52247139 0.54778078 0.57783568 0.5865823  0.59570113 0.59839955\n",
      " 0.58239509 0.55978413 0.54964176 0.47445799 0.45035824 0.44970689\n",
      " 0.44393784 0.44803201 0.48199498 0.47799386 0.5332651  0.56760026\n",
      " 0.58425607 0.58137155 0.58704755 0.5812785  0.58267423 0.57243882\n",
      " 0.57718433 0.61226389 0.63534009 0.62985019 0.62184796 0.6045408\n",
      " 0.56350609 0.56341305 0.55760217 0.54796398 0.54012096 0.53455073\n",
      " 0.53147888 0.53104866 0.5331983  0.5377183  0.54419816 0.55215085\n",
      " 0.56097651 0.57004619 0.57879376 0.58665359]\n",
      "14 day output [[0.5931688]]\n",
      "15 day input [0.59104866 0.59039732 0.5686238  0.57076393 0.55503862 0.57913836\n",
      " 0.60426165 0.64138829 0.63059458 0.59802736 0.55717875 0.54154648\n",
      " 0.5094445  0.52256444 0.4735275  0.43202754 0.42430446 0.41723272\n",
      " 0.41704662 0.4192798  0.42960826 0.46012841 0.52228529 0.53540523\n",
      " 0.51921466 0.51307342 0.50162836 0.47976179 0.45984926 0.46366428\n",
      " 0.51046804 0.56908905 0.57392761 0.57122918 0.56769331 0.55196799\n",
      " 0.54880432 0.54015074 0.44998604 0.43677305 0.42867777 0.42635154\n",
      " 0.42616544 0.42811948 0.43751745 0.45007909 0.48795013 0.52265749\n",
      " 0.52423932 0.53745231 0.55894668 0.56359914 0.53633572 0.52247139\n",
      " 0.54778078 0.57783568 0.5865823  0.59570113 0.59839955 0.58239509\n",
      " 0.55978413 0.54964176 0.47445799 0.45035824 0.44970689 0.44393784\n",
      " 0.44803201 0.48199498 0.47799386 0.5332651  0.56760026 0.58425607\n",
      " 0.58137155 0.58704755 0.5812785  0.58267423 0.57243882 0.57718433\n",
      " 0.61226389 0.63534009 0.62985019 0.62184796 0.6045408  0.56350609\n",
      " 0.56341305 0.55760217 0.54796398 0.54012096 0.53455073 0.53147888\n",
      " 0.53104866 0.5331983  0.5377183  0.54419816 0.55215085 0.56097651\n",
      " 0.57004619 0.57879376 0.58665359 0.5931688 ]\n",
      "15 day output [[0.5979482]]\n",
      "16 day input [0.59039732 0.5686238  0.57076393 0.55503862 0.57913836 0.60426165\n",
      " 0.64138829 0.63059458 0.59802736 0.55717875 0.54154648 0.5094445\n",
      " 0.52256444 0.4735275  0.43202754 0.42430446 0.41723272 0.41704662\n",
      " 0.4192798  0.42960826 0.46012841 0.52228529 0.53540523 0.51921466\n",
      " 0.51307342 0.50162836 0.47976179 0.45984926 0.46366428 0.51046804\n",
      " 0.56908905 0.57392761 0.57122918 0.56769331 0.55196799 0.54880432\n",
      " 0.54015074 0.44998604 0.43677305 0.42867777 0.42635154 0.42616544\n",
      " 0.42811948 0.43751745 0.45007909 0.48795013 0.52265749 0.52423932\n",
      " 0.53745231 0.55894668 0.56359914 0.53633572 0.52247139 0.54778078\n",
      " 0.57783568 0.5865823  0.59570113 0.59839955 0.58239509 0.55978413\n",
      " 0.54964176 0.47445799 0.45035824 0.44970689 0.44393784 0.44803201\n",
      " 0.48199498 0.47799386 0.5332651  0.56760026 0.58425607 0.58137155\n",
      " 0.58704755 0.5812785  0.58267423 0.57243882 0.57718433 0.61226389\n",
      " 0.63534009 0.62985019 0.62184796 0.6045408  0.56350609 0.56341305\n",
      " 0.55760217 0.54796398 0.54012096 0.53455073 0.53147888 0.53104866\n",
      " 0.5331983  0.5377183  0.54419816 0.55215085 0.56097651 0.57004619\n",
      " 0.57879376 0.58665359 0.5931688  0.59794819]\n",
      "16 day output [[0.60073775]]\n",
      "17 day input [0.5686238  0.57076393 0.55503862 0.57913836 0.60426165 0.64138829\n",
      " 0.63059458 0.59802736 0.55717875 0.54154648 0.5094445  0.52256444\n",
      " 0.4735275  0.43202754 0.42430446 0.41723272 0.41704662 0.4192798\n",
      " 0.42960826 0.46012841 0.52228529 0.53540523 0.51921466 0.51307342\n",
      " 0.50162836 0.47976179 0.45984926 0.46366428 0.51046804 0.56908905\n",
      " 0.57392761 0.57122918 0.56769331 0.55196799 0.54880432 0.54015074\n",
      " 0.44998604 0.43677305 0.42867777 0.42635154 0.42616544 0.42811948\n",
      " 0.43751745 0.45007909 0.48795013 0.52265749 0.52423932 0.53745231\n",
      " 0.55894668 0.56359914 0.53633572 0.52247139 0.54778078 0.57783568\n",
      " 0.5865823  0.59570113 0.59839955 0.58239509 0.55978413 0.54964176\n",
      " 0.47445799 0.45035824 0.44970689 0.44393784 0.44803201 0.48199498\n",
      " 0.47799386 0.5332651  0.56760026 0.58425607 0.58137155 0.58704755\n",
      " 0.5812785  0.58267423 0.57243882 0.57718433 0.61226389 0.63534009\n",
      " 0.62985019 0.62184796 0.6045408  0.56350609 0.56341305 0.55760217\n",
      " 0.54796398 0.54012096 0.53455073 0.53147888 0.53104866 0.5331983\n",
      " 0.5377183  0.54419816 0.55215085 0.56097651 0.57004619 0.57879376\n",
      " 0.58665359 0.5931688  0.59794819 0.60073775]\n",
      "17 day output [[0.60137206]]\n",
      "18 day input [0.57076393 0.55503862 0.57913836 0.60426165 0.64138829 0.63059458\n",
      " 0.59802736 0.55717875 0.54154648 0.5094445  0.52256444 0.4735275\n",
      " 0.43202754 0.42430446 0.41723272 0.41704662 0.4192798  0.42960826\n",
      " 0.46012841 0.52228529 0.53540523 0.51921466 0.51307342 0.50162836\n",
      " 0.47976179 0.45984926 0.46366428 0.51046804 0.56908905 0.57392761\n",
      " 0.57122918 0.56769331 0.55196799 0.54880432 0.54015074 0.44998604\n",
      " 0.43677305 0.42867777 0.42635154 0.42616544 0.42811948 0.43751745\n",
      " 0.45007909 0.48795013 0.52265749 0.52423932 0.53745231 0.55894668\n",
      " 0.56359914 0.53633572 0.52247139 0.54778078 0.57783568 0.5865823\n",
      " 0.59570113 0.59839955 0.58239509 0.55978413 0.54964176 0.47445799\n",
      " 0.45035824 0.44970689 0.44393784 0.44803201 0.48199498 0.47799386\n",
      " 0.5332651  0.56760026 0.58425607 0.58137155 0.58704755 0.5812785\n",
      " 0.58267423 0.57243882 0.57718433 0.61226389 0.63534009 0.62985019\n",
      " 0.62184796 0.6045408  0.56350609 0.56341305 0.55760217 0.54796398\n",
      " 0.54012096 0.53455073 0.53147888 0.53104866 0.5331983  0.5377183\n",
      " 0.54419816 0.55215085 0.56097651 0.57004619 0.57879376 0.58665359\n",
      " 0.5931688  0.59794819 0.60073775 0.60137206]\n",
      "18 day output [[0.59985983]]\n",
      "19 day input [0.55503862 0.57913836 0.60426165 0.64138829 0.63059458 0.59802736\n",
      " 0.55717875 0.54154648 0.5094445  0.52256444 0.4735275  0.43202754\n",
      " 0.42430446 0.41723272 0.41704662 0.4192798  0.42960826 0.46012841\n",
      " 0.52228529 0.53540523 0.51921466 0.51307342 0.50162836 0.47976179\n",
      " 0.45984926 0.46366428 0.51046804 0.56908905 0.57392761 0.57122918\n",
      " 0.56769331 0.55196799 0.54880432 0.54015074 0.44998604 0.43677305\n",
      " 0.42867777 0.42635154 0.42616544 0.42811948 0.43751745 0.45007909\n",
      " 0.48795013 0.52265749 0.52423932 0.53745231 0.55894668 0.56359914\n",
      " 0.53633572 0.52247139 0.54778078 0.57783568 0.5865823  0.59570113\n",
      " 0.59839955 0.58239509 0.55978413 0.54964176 0.47445799 0.45035824\n",
      " 0.44970689 0.44393784 0.44803201 0.48199498 0.47799386 0.5332651\n",
      " 0.56760026 0.58425607 0.58137155 0.58704755 0.5812785  0.58267423\n",
      " 0.57243882 0.57718433 0.61226389 0.63534009 0.62985019 0.62184796\n",
      " 0.6045408  0.56350609 0.56341305 0.55760217 0.54796398 0.54012096\n",
      " 0.53455073 0.53147888 0.53104866 0.5331983  0.5377183  0.54419816\n",
      " 0.55215085 0.56097651 0.57004619 0.57879376 0.58665359 0.5931688\n",
      " 0.59794819 0.60073775 0.60137206 0.59985983]\n",
      "19 day output [[0.59629726]]\n",
      "20 day input [0.57913836 0.60426165 0.64138829 0.63059458 0.59802736 0.55717875\n",
      " 0.54154648 0.5094445  0.52256444 0.4735275  0.43202754 0.42430446\n",
      " 0.41723272 0.41704662 0.4192798  0.42960826 0.46012841 0.52228529\n",
      " 0.53540523 0.51921466 0.51307342 0.50162836 0.47976179 0.45984926\n",
      " 0.46366428 0.51046804 0.56908905 0.57392761 0.57122918 0.56769331\n",
      " 0.55196799 0.54880432 0.54015074 0.44998604 0.43677305 0.42867777\n",
      " 0.42635154 0.42616544 0.42811948 0.43751745 0.45007909 0.48795013\n",
      " 0.52265749 0.52423932 0.53745231 0.55894668 0.56359914 0.53633572\n",
      " 0.52247139 0.54778078 0.57783568 0.5865823  0.59570113 0.59839955\n",
      " 0.58239509 0.55978413 0.54964176 0.47445799 0.45035824 0.44970689\n",
      " 0.44393784 0.44803201 0.48199498 0.47799386 0.5332651  0.56760026\n",
      " 0.58425607 0.58137155 0.58704755 0.5812785  0.58267423 0.57243882\n",
      " 0.57718433 0.61226389 0.63534009 0.62985019 0.62184796 0.6045408\n",
      " 0.56350609 0.56341305 0.55760217 0.54796398 0.54012096 0.53455073\n",
      " 0.53147888 0.53104866 0.5331983  0.5377183  0.54419816 0.55215085\n",
      " 0.56097651 0.57004619 0.57879376 0.58665359 0.5931688  0.59794819\n",
      " 0.60073775 0.60137206 0.59985983 0.59629726]\n",
      "20 day output [[0.5909601]]\n",
      "21 day input [0.60426165 0.64138829 0.63059458 0.59802736 0.55717875 0.54154648\n",
      " 0.5094445  0.52256444 0.4735275  0.43202754 0.42430446 0.41723272\n",
      " 0.41704662 0.4192798  0.42960826 0.46012841 0.52228529 0.53540523\n",
      " 0.51921466 0.51307342 0.50162836 0.47976179 0.45984926 0.46366428\n",
      " 0.51046804 0.56908905 0.57392761 0.57122918 0.56769331 0.55196799\n",
      " 0.54880432 0.54015074 0.44998604 0.43677305 0.42867777 0.42635154\n",
      " 0.42616544 0.42811948 0.43751745 0.45007909 0.48795013 0.52265749\n",
      " 0.52423932 0.53745231 0.55894668 0.56359914 0.53633572 0.52247139\n",
      " 0.54778078 0.57783568 0.5865823  0.59570113 0.59839955 0.58239509\n",
      " 0.55978413 0.54964176 0.47445799 0.45035824 0.44970689 0.44393784\n",
      " 0.44803201 0.48199498 0.47799386 0.5332651  0.56760026 0.58425607\n",
      " 0.58137155 0.58704755 0.5812785  0.58267423 0.57243882 0.57718433\n",
      " 0.61226389 0.63534009 0.62985019 0.62184796 0.6045408  0.56350609\n",
      " 0.56341305 0.55760217 0.54796398 0.54012096 0.53455073 0.53147888\n",
      " 0.53104866 0.5331983  0.5377183  0.54419816 0.55215085 0.56097651\n",
      " 0.57004619 0.57879376 0.58665359 0.5931688  0.59794819 0.60073775\n",
      " 0.60137206 0.59985983 0.59629726 0.59096009]\n",
      "21 day output [[0.5841783]]\n",
      "22 day input [0.64138829 0.63059458 0.59802736 0.55717875 0.54154648 0.5094445\n",
      " 0.52256444 0.4735275  0.43202754 0.42430446 0.41723272 0.41704662\n",
      " 0.4192798  0.42960826 0.46012841 0.52228529 0.53540523 0.51921466\n",
      " 0.51307342 0.50162836 0.47976179 0.45984926 0.46366428 0.51046804\n",
      " 0.56908905 0.57392761 0.57122918 0.56769331 0.55196799 0.54880432\n",
      " 0.54015074 0.44998604 0.43677305 0.42867777 0.42635154 0.42616544\n",
      " 0.42811948 0.43751745 0.45007909 0.48795013 0.52265749 0.52423932\n",
      " 0.53745231 0.55894668 0.56359914 0.53633572 0.52247139 0.54778078\n",
      " 0.57783568 0.5865823  0.59570113 0.59839955 0.58239509 0.55978413\n",
      " 0.54964176 0.47445799 0.45035824 0.44970689 0.44393784 0.44803201\n",
      " 0.48199498 0.47799386 0.5332651  0.56760026 0.58425607 0.58137155\n",
      " 0.58704755 0.5812785  0.58267423 0.57243882 0.57718433 0.61226389\n",
      " 0.63534009 0.62985019 0.62184796 0.6045408  0.56350609 0.56341305\n",
      " 0.55760217 0.54796398 0.54012096 0.53455073 0.53147888 0.53104866\n",
      " 0.5331983  0.5377183  0.54419816 0.55215085 0.56097651 0.57004619\n",
      " 0.57879376 0.58665359 0.5931688  0.59794819 0.60073775 0.60137206\n",
      " 0.59985983 0.59629726 0.59096009 0.58417833]\n",
      "22 day output [[0.5764334]]\n",
      "23 day input [0.63059458 0.59802736 0.55717875 0.54154648 0.5094445  0.52256444\n",
      " 0.4735275  0.43202754 0.42430446 0.41723272 0.41704662 0.4192798\n",
      " 0.42960826 0.46012841 0.52228529 0.53540523 0.51921466 0.51307342\n",
      " 0.50162836 0.47976179 0.45984926 0.46366428 0.51046804 0.56908905\n",
      " 0.57392761 0.57122918 0.56769331 0.55196799 0.54880432 0.54015074\n",
      " 0.44998604 0.43677305 0.42867777 0.42635154 0.42616544 0.42811948\n",
      " 0.43751745 0.45007909 0.48795013 0.52265749 0.52423932 0.53745231\n",
      " 0.55894668 0.56359914 0.53633572 0.52247139 0.54778078 0.57783568\n",
      " 0.5865823  0.59570113 0.59839955 0.58239509 0.55978413 0.54964176\n",
      " 0.47445799 0.45035824 0.44970689 0.44393784 0.44803201 0.48199498\n",
      " 0.47799386 0.5332651  0.56760026 0.58425607 0.58137155 0.58704755\n",
      " 0.5812785  0.58267423 0.57243882 0.57718433 0.61226389 0.63534009\n",
      " 0.62985019 0.62184796 0.6045408  0.56350609 0.56341305 0.55760217\n",
      " 0.54796398 0.54012096 0.53455073 0.53147888 0.53104866 0.5331983\n",
      " 0.5377183  0.54419816 0.55215085 0.56097651 0.57004619 0.57879376\n",
      " 0.58665359 0.5931688  0.59794819 0.60073775 0.60137206 0.59985983\n",
      " 0.59629726 0.59096009 0.58417833 0.57643342]\n",
      "23 day output [[0.56826204]]\n",
      "24 day input [0.59802736 0.55717875 0.54154648 0.5094445  0.52256444 0.4735275\n",
      " 0.43202754 0.42430446 0.41723272 0.41704662 0.4192798  0.42960826\n",
      " 0.46012841 0.52228529 0.53540523 0.51921466 0.51307342 0.50162836\n",
      " 0.47976179 0.45984926 0.46366428 0.51046804 0.56908905 0.57392761\n",
      " 0.57122918 0.56769331 0.55196799 0.54880432 0.54015074 0.44998604\n",
      " 0.43677305 0.42867777 0.42635154 0.42616544 0.42811948 0.43751745\n",
      " 0.45007909 0.48795013 0.52265749 0.52423932 0.53745231 0.55894668\n",
      " 0.56359914 0.53633572 0.52247139 0.54778078 0.57783568 0.5865823\n",
      " 0.59570113 0.59839955 0.58239509 0.55978413 0.54964176 0.47445799\n",
      " 0.45035824 0.44970689 0.44393784 0.44803201 0.48199498 0.47799386\n",
      " 0.5332651  0.56760026 0.58425607 0.58137155 0.58704755 0.5812785\n",
      " 0.58267423 0.57243882 0.57718433 0.61226389 0.63534009 0.62985019\n",
      " 0.62184796 0.6045408  0.56350609 0.56341305 0.55760217 0.54796398\n",
      " 0.54012096 0.53455073 0.53147888 0.53104866 0.5331983  0.5377183\n",
      " 0.54419816 0.55215085 0.56097651 0.57004619 0.57879376 0.58665359\n",
      " 0.5931688  0.59794819 0.60073775 0.60137206 0.59985983 0.59629726\n",
      " 0.59096009 0.58417833 0.57643342 0.56826204]\n",
      "24 day output [[0.5602832]]\n",
      "25 day input [0.55717875 0.54154648 0.5094445  0.52256444 0.4735275  0.43202754\n",
      " 0.42430446 0.41723272 0.41704662 0.4192798  0.42960826 0.46012841\n",
      " 0.52228529 0.53540523 0.51921466 0.51307342 0.50162836 0.47976179\n",
      " 0.45984926 0.46366428 0.51046804 0.56908905 0.57392761 0.57122918\n",
      " 0.56769331 0.55196799 0.54880432 0.54015074 0.44998604 0.43677305\n",
      " 0.42867777 0.42635154 0.42616544 0.42811948 0.43751745 0.45007909\n",
      " 0.48795013 0.52265749 0.52423932 0.53745231 0.55894668 0.56359914\n",
      " 0.53633572 0.52247139 0.54778078 0.57783568 0.5865823  0.59570113\n",
      " 0.59839955 0.58239509 0.55978413 0.54964176 0.47445799 0.45035824\n",
      " 0.44970689 0.44393784 0.44803201 0.48199498 0.47799386 0.5332651\n",
      " 0.56760026 0.58425607 0.58137155 0.58704755 0.5812785  0.58267423\n",
      " 0.57243882 0.57718433 0.61226389 0.63534009 0.62985019 0.62184796\n",
      " 0.6045408  0.56350609 0.56341305 0.55760217 0.54796398 0.54012096\n",
      " 0.53455073 0.53147888 0.53104866 0.5331983  0.5377183  0.54419816\n",
      " 0.55215085 0.56097651 0.57004619 0.57879376 0.58665359 0.5931688\n",
      " 0.59794819 0.60073775 0.60137206 0.59985983 0.59629726 0.59096009\n",
      " 0.58417833 0.57643342 0.56826204 0.56028318]\n",
      "25 day output [[0.5530482]]\n",
      "26 day input [0.54154648 0.5094445  0.52256444 0.4735275  0.43202754 0.42430446\n",
      " 0.41723272 0.41704662 0.4192798  0.42960826 0.46012841 0.52228529\n",
      " 0.53540523 0.51921466 0.51307342 0.50162836 0.47976179 0.45984926\n",
      " 0.46366428 0.51046804 0.56908905 0.57392761 0.57122918 0.56769331\n",
      " 0.55196799 0.54880432 0.54015074 0.44998604 0.43677305 0.42867777\n",
      " 0.42635154 0.42616544 0.42811948 0.43751745 0.45007909 0.48795013\n",
      " 0.52265749 0.52423932 0.53745231 0.55894668 0.56359914 0.53633572\n",
      " 0.52247139 0.54778078 0.57783568 0.5865823  0.59570113 0.59839955\n",
      " 0.58239509 0.55978413 0.54964176 0.47445799 0.45035824 0.44970689\n",
      " 0.44393784 0.44803201 0.48199498 0.47799386 0.5332651  0.56760026\n",
      " 0.58425607 0.58137155 0.58704755 0.5812785  0.58267423 0.57243882\n",
      " 0.57718433 0.61226389 0.63534009 0.62985019 0.62184796 0.6045408\n",
      " 0.56350609 0.56341305 0.55760217 0.54796398 0.54012096 0.53455073\n",
      " 0.53147888 0.53104866 0.5331983  0.5377183  0.54419816 0.55215085\n",
      " 0.56097651 0.57004619 0.57879376 0.58665359 0.5931688  0.59794819\n",
      " 0.60073775 0.60137206 0.59985983 0.59629726 0.59096009 0.58417833\n",
      " 0.57643342 0.56826204 0.56028318 0.55304819]\n",
      "26 day output [[0.54702985]]\n",
      "27 day input [0.5094445  0.52256444 0.4735275  0.43202754 0.42430446 0.41723272\n",
      " 0.41704662 0.4192798  0.42960826 0.46012841 0.52228529 0.53540523\n",
      " 0.51921466 0.51307342 0.50162836 0.47976179 0.45984926 0.46366428\n",
      " 0.51046804 0.56908905 0.57392761 0.57122918 0.56769331 0.55196799\n",
      " 0.54880432 0.54015074 0.44998604 0.43677305 0.42867777 0.42635154\n",
      " 0.42616544 0.42811948 0.43751745 0.45007909 0.48795013 0.52265749\n",
      " 0.52423932 0.53745231 0.55894668 0.56359914 0.53633572 0.52247139\n",
      " 0.54778078 0.57783568 0.5865823  0.59570113 0.59839955 0.58239509\n",
      " 0.55978413 0.54964176 0.47445799 0.45035824 0.44970689 0.44393784\n",
      " 0.44803201 0.48199498 0.47799386 0.5332651  0.56760026 0.58425607\n",
      " 0.58137155 0.58704755 0.5812785  0.58267423 0.57243882 0.57718433\n",
      " 0.61226389 0.63534009 0.62985019 0.62184796 0.6045408  0.56350609\n",
      " 0.56341305 0.55760217 0.54796398 0.54012096 0.53455073 0.53147888\n",
      " 0.53104866 0.5331983  0.5377183  0.54419816 0.55215085 0.56097651\n",
      " 0.57004619 0.57879376 0.58665359 0.5931688  0.59794819 0.60073775\n",
      " 0.60137206 0.59985983 0.59629726 0.59096009 0.58417833 0.57643342\n",
      " 0.56826204 0.56028318 0.55304819 0.54702985]\n",
      "27 day output [[0.5425845]]\n",
      "28 day input [0.52256444 0.4735275  0.43202754 0.42430446 0.41723272 0.41704662\n",
      " 0.4192798  0.42960826 0.46012841 0.52228529 0.53540523 0.51921466\n",
      " 0.51307342 0.50162836 0.47976179 0.45984926 0.46366428 0.51046804\n",
      " 0.56908905 0.57392761 0.57122918 0.56769331 0.55196799 0.54880432\n",
      " 0.54015074 0.44998604 0.43677305 0.42867777 0.42635154 0.42616544\n",
      " 0.42811948 0.43751745 0.45007909 0.48795013 0.52265749 0.52423932\n",
      " 0.53745231 0.55894668 0.56359914 0.53633572 0.52247139 0.54778078\n",
      " 0.57783568 0.5865823  0.59570113 0.59839955 0.58239509 0.55978413\n",
      " 0.54964176 0.47445799 0.45035824 0.44970689 0.44393784 0.44803201\n",
      " 0.48199498 0.47799386 0.5332651  0.56760026 0.58425607 0.58137155\n",
      " 0.58704755 0.5812785  0.58267423 0.57243882 0.57718433 0.61226389\n",
      " 0.63534009 0.62985019 0.62184796 0.6045408  0.56350609 0.56341305\n",
      " 0.55760217 0.54796398 0.54012096 0.53455073 0.53147888 0.53104866\n",
      " 0.5331983  0.5377183  0.54419816 0.55215085 0.56097651 0.57004619\n",
      " 0.57879376 0.58665359 0.5931688  0.59794819 0.60073775 0.60137206\n",
      " 0.59985983 0.59629726 0.59096009 0.58417833 0.57643342 0.56826204\n",
      " 0.56028318 0.55304819 0.54702985 0.54258448]\n",
      "28 day output [[0.539995]]\n",
      "29 day input [0.4735275  0.43202754 0.42430446 0.41723272 0.41704662 0.4192798\n",
      " 0.42960826 0.46012841 0.52228529 0.53540523 0.51921466 0.51307342\n",
      " 0.50162836 0.47976179 0.45984926 0.46366428 0.51046804 0.56908905\n",
      " 0.57392761 0.57122918 0.56769331 0.55196799 0.54880432 0.54015074\n",
      " 0.44998604 0.43677305 0.42867777 0.42635154 0.42616544 0.42811948\n",
      " 0.43751745 0.45007909 0.48795013 0.52265749 0.52423932 0.53745231\n",
      " 0.55894668 0.56359914 0.53633572 0.52247139 0.54778078 0.57783568\n",
      " 0.5865823  0.59570113 0.59839955 0.58239509 0.55978413 0.54964176\n",
      " 0.47445799 0.45035824 0.44970689 0.44393784 0.44803201 0.48199498\n",
      " 0.47799386 0.5332651  0.56760026 0.58425607 0.58137155 0.58704755\n",
      " 0.5812785  0.58267423 0.57243882 0.57718433 0.61226389 0.63534009\n",
      " 0.62985019 0.62184796 0.6045408  0.56350609 0.56341305 0.55760217\n",
      " 0.54796398 0.54012096 0.53455073 0.53147888 0.53104866 0.5331983\n",
      " 0.5377183  0.54419816 0.55215085 0.56097651 0.57004619 0.57879376\n",
      " 0.58665359 0.5931688  0.59794819 0.60073775 0.60137206 0.59985983\n",
      " 0.59629726 0.59096009 0.58417833 0.57643342 0.56826204 0.56028318\n",
      " 0.55304819 0.54702985 0.54258448 0.53999501]\n",
      "29 day output [[0.53935546]]\n"
     ]
    }
   ],
   "source": [
    "# demonstrate prediction for next 30 days\n",
    "from numpy import array\n",
    "\n",
    "lst_output=[]\n",
    "n_steps=100\n",
    "i=0\n",
    "while(i<30):\n",
    "    \n",
    "    if(len(temp_input)>100):\n",
    "        #print(temp_input)\n",
    "        x_input=np.array(temp_input[1:])\n",
    "        print(\"{} day input {}\".format(i,x_input))\n",
    "        x_input=x_input.reshape(1,-1)\n",
    "        x_input = x_input.reshape((1, n_steps, 1))\n",
    "        #print(x_input)\n",
    "        yhat = model.predict(x_input, verbose=0)\n",
    "        print(\"{} day output {}\".format(i,yhat))\n",
    "        temp_input.extend(yhat[0].tolist())\n",
    "        temp_input=temp_input[1:]\n",
    "        #print(temp_input)\n",
    "        lst_output.extend(yhat.tolist())\n",
    "        i=i+1\n",
    "    else:\n",
    "        x_input = x_input.reshape((1, n_steps,1))\n",
    "        yhat = model.predict(x_input, verbose=0)\n",
    "        print(yhat[0])\n",
    "        temp_input.extend(yhat[0].tolist())\n",
    "        print(len(temp_input))\n",
    "        lst_output.extend(yhat.tolist())\n",
    "        i=i+1\n",
    "    \n",
    "\n"
   ]
  },
  {
   "cell_type": "code",
   "execution_count": 114,
   "id": "45900ef9",
   "metadata": {},
   "outputs": [],
   "source": [
    "day_new=np.arange(1,101)\n",
    "day_pred=np.arange(101,131)"
   ]
  },
  {
   "cell_type": "code",
   "execution_count": 115,
   "id": "8e0a11fd",
   "metadata": {},
   "outputs": [
    {
     "data": {
      "text/plain": [
       "array([  1,   2,   3,   4,   5,   6,   7,   8,   9,  10,  11,  12,  13,\n",
       "        14,  15,  16,  17,  18,  19,  20,  21,  22,  23,  24,  25,  26,\n",
       "        27,  28,  29,  30,  31,  32,  33,  34,  35,  36,  37,  38,  39,\n",
       "        40,  41,  42,  43,  44,  45,  46,  47,  48,  49,  50,  51,  52,\n",
       "        53,  54,  55,  56,  57,  58,  59,  60,  61,  62,  63,  64,  65,\n",
       "        66,  67,  68,  69,  70,  71,  72,  73,  74,  75,  76,  77,  78,\n",
       "        79,  80,  81,  82,  83,  84,  85,  86,  87,  88,  89,  90,  91,\n",
       "        92,  93,  94,  95,  96,  97,  98,  99, 100])"
      ]
     },
     "execution_count": 115,
     "metadata": {},
     "output_type": "execute_result"
    }
   ],
   "source": [
    "day_new"
   ]
  },
  {
   "cell_type": "code",
   "execution_count": 116,
   "id": "d15b4fb6",
   "metadata": {},
   "outputs": [
    {
     "data": {
      "text/plain": [
       "array([101, 102, 103, 104, 105, 106, 107, 108, 109, 110, 111, 112, 113,\n",
       "       114, 115, 116, 117, 118, 119, 120, 121, 122, 123, 124, 125, 126,\n",
       "       127, 128, 129, 130])"
      ]
     },
     "execution_count": 116,
     "metadata": {},
     "output_type": "execute_result"
    }
   ],
   "source": [
    "day_pred"
   ]
  },
  {
   "cell_type": "code",
   "execution_count": 117,
   "id": "94702496",
   "metadata": {},
   "outputs": [
    {
     "data": {
      "text/plain": [
       "35064"
      ]
     },
     "execution_count": 117,
     "metadata": {},
     "output_type": "execute_result"
    }
   ],
   "source": [
    "len(df1)"
   ]
  },
  {
   "cell_type": "code",
   "execution_count": 118,
   "id": "4c27fad3",
   "metadata": {},
   "outputs": [
    {
     "data": {
      "text/plain": [
       "[<matplotlib.lines.Line2D at 0x1d43cc71820>]"
      ]
     },
     "execution_count": 118,
     "metadata": {},
     "output_type": "execute_result"
    },
    {
     "data": {
      "image/png": "[encoded data removed]",
      "text/plain": [
       "<Figure size 432x288 with 1 Axes>"
      ]
     },
     "metadata": {
      "needs_background": "light"
     },
     "output_type": "display_data"
    }
   ],
   "source": [
    "plt.plot(day_new,scaler.inverse_transform(df1[34964:]))\n",
    "plt.plot(day_pred,scaler.inverse_transform(lst_output))"
   ]
  },
  {
   "cell_type": "markdown",
   "id": "f5527a51",
   "metadata": {},
   "source": [
    "# Part IV"
   ]
  },
  {
   "cell_type": "raw",
   "id": "f5e1035f",
   "metadata": {},
   "source": [
    "To improve network performace, we are going to implement Grid Search to tune the hyperparameters. We will also use Early Stopping and Callback to reduce the hyperparameter tunning time. "
   ]
  },
  {
   "cell_type": "code",
   "execution_count": 126,
   "id": "7eff710c",
   "metadata": {},
   "outputs": [],
   "source": [
    "import numpy as np\n",
    "import matplotlib.pyplot as plt\n",
    "import pandas as pd\n",
    "import seaborn as sns\n",
    "import tensorflow as tf\n",
    "from keras.models import Sequential\n",
    "from keras.layers import Dense\n",
    "from keras.layers import LSTM, GRU\n",
    "from keras.layers import Dropout\n",
    "from sklearn.preprocessing import MinMaxScaler\n",
    "from keras.models import load_model\n",
    "from keras.callbacks import EarlyStopping\n",
    "from keras.callbacks import ModelCheckpoint\n",
    "import itertools\n",
    "import random\n",
    "import os\n"
   ]
  },
  {
   "cell_type": "code",
   "execution_count": 124,
   "id": "a41372aa",
   "metadata": {},
   "outputs": [],
   "source": [
    "def LSTM_HyperParameter_Tuning(config, x_train, y_train, x_test, y_test):\n",
    "    \n",
    "    first_additional_layer, second_additional_layer, third_additional_layer, n_neurons, n_batch_size, dropout = config\n",
    "    possible_combinations = list(itertools.product(first_additional_layer, second_additional_layer, third_additional_layer,\n",
    "                                                  n_neurons, n_batch_size, dropout))\n",
    "    \n",
    "    print(possible_combinations)\n",
    "    print('\\n')\n",
    "    \n",
    "    hist = []\n",
    "    \n",
    "    for i in range(0, len(possible_combinations)):\n",
    "        \n",
    "        print(f'{i+1}th combination: \\n')        \n",
    "        first_additional_layer, second_additional_layer, third_additional_layer, n_neurons, n_batch_size, dropout = possible_combinations[i]\n",
    "        regressor = Sequential()\n",
    "        regressor.add(LSTM(units=n_neurons, return_sequences=True, input_shape=(x_train.shape[1], x_train.shape[2])))\n",
    "        regressor.add(Dropout(dropout))\n",
    "\n",
    "        if first_additional_layer:\n",
    "            regressor.add(LSTM(units=n_neurons, return_sequences=True))\n",
    "            regressor.add(Dropout(dropout))\n",
    "\n",
    "        if second_additional_layer:\n",
    "            regressor.add(LSTM(units=n_neurons, return_sequences=True))\n",
    "            regressor.add(Dropout(dropout))\n",
    "\n",
    "        if third_additional_layer:\n",
    "            regressor.add(GRU(units=n_neurons, return_sequences=True))\n",
    "            regressor.add(Dropout(dropout))\n",
    "\n",
    "        regressor.add(LSTM(units=n_neurons, return_sequences=False))\n",
    "        regressor.add(Dropout(dropout))\n",
    "        regressor.add(Dense(units=1, activation='linear'))\n",
    "        regressor.compile(optimizer='adam', loss='mse', metrics=[tf.keras.metrics.RootMeanSquaredError()])\n",
    "\n",
    "        es = EarlyStopping(monitor='val_loss', mode='min', verbose=1, patience=5)\n",
    "\n",
    "        file_path = 'bmodel.h5'\n",
    "\n",
    "        mc = ModelCheckpoint(file_path, monitor='val_loss', mode='min', verbose=1, save_best_only=True)\n",
    "\n",
    "        regressor.fit(x_train, y_train, validation_split=0.3, epochs=40, batch_size=n_batch_size, callbacks=[es, mc], verbose=0)\n",
    "\n",
    "        train_accuracy = regressor.evaluate(x_train, y_train, verbose=0)\n",
    "        test_accuracy = regressor.evaluate(x_test, y_test, verbose=0)\n",
    "\n",
    "        hist.append(list((first_additional_layer, second_additional_layer, third_additional_layer, n_neurons, n_batch_size, dropout,\n",
    "                          train_accuracy, test_accuracy)))\n",
    "\n",
    "        print(f'{str(i)}-th combination = {possible_combinations[i]} \\n train accuracy: {train_accuracy} and test accuracy: {test_accuracy}')\n",
    "\n",
    "    return hist"
   ]
  },
  {
   "cell_type": "code",
   "execution_count": null,
   "id": "cbd64eb2",
   "metadata": {},
   "outputs": [],
   "source": [
    "config = [[False], [False], [False], [16, 32], [8, 16, 32], [0.2]]  \n",
    "\n",
    "hist = LSTM_HyperParameter_Tuning(config, X_train, y_train, X_test, y_test)  "
   ]
  },
  {
   "cell_type": "raw",
   "id": "9bdc5bc6",
   "metadata": {},
   "source": [
    "Selecting the Best Model"
   ]
  },
  {
   "cell_type": "code",
   "execution_count": null,
   "id": "3ecc4d7a",
   "metadata": {},
   "outputs": [],
   "source": [
    "hist = pd.DataFrame(hist)\n",
    "hist = hist.sort_values(by=[7], ascending=True)\n",
    "hist"
   ]
  },
  {
   "cell_type": "markdown",
   "id": "75445084",
   "metadata": {},
   "source": [
    "# PART V: Compare Network Performance"
   ]
  },
  {
   "cell_type": "code",
   "execution_count": null,
   "id": "c9ef9f69",
   "metadata": {},
   "outputs": [],
   "source": [
    "print(f'Best Combination: \\n first_additional_layer = {hist.iloc[0, 0]}\\n second_additional_layer = {hist.iloc[0, 1]}\\n third_additional_layer = {hist.iloc[0, 2]}\\n n_neurons = {hist.iloc[0, 3]}\\n n_batch_size = {hist.iloc[0, 4]}\\n dropout = {hist.iloc[0, 5]}')\n",
    "\n",
    "print(f'Results After Tunning:\\n Test Set RMSE: {np.round(hist.iloc[0, -1], 4)[1]}\\n')\n"
   ]
  },
  {
   "cell_type": "raw",
   "id": "3ebabcd5",
   "metadata": {},
   "source": [
    "It can be seen that, the RMSE has improved after tuning and best combinations are also listed above as well"
   ]
  },
  {
   "cell_type": "code",
   "execution_count": null,
   "id": "89e47fc5",
   "metadata": {},
   "outputs": [],
   "source": []
  }
 ],
 "metadata": {
  "kernelspec": {
   "display_name": "Python 3",
   "language": "python",
   "name": "python3"
  }
 },
 "nbformat": 4,
 "nbformat_minor": 5
}
